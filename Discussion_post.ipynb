{
  "nbformat": 4,
  "nbformat_minor": 0,
  "metadata": {
    "colab": {
      "provenance": [],
      "authorship_tag": "ABX9TyOfGbTs/h/dDqrOHGSWNptz",
      "include_colab_link": true
    },
    "kernelspec": {
      "name": "python3",
      "display_name": "Python 3"
    },
    "language_info": {
      "name": "python"
    }
  },
  "cells": [
    {
      "cell_type": "markdown",
      "metadata": {
        "id": "view-in-github",
        "colab_type": "text"
      },
      "source": [
        "<a href=\"https://colab.research.google.com/github/Voztok94/Discussion-7/blob/main/Discussion_post.ipynb\" target=\"_parent\"><img src=\"https://colab.research.google.com/assets/colab-badge.svg\" alt=\"Open In Colab\"/></a>"
      ]
    },
    {
      "cell_type": "code",
      "source": [
        "# Jason Carpenter\n",
        "# Discussion Post Ex 12.2\n",
        "\n",
        "!python -m textblob.download_corpora"
      ],
      "metadata": {
        "colab": {
          "base_uri": "https://localhost:8080/"
        },
        "id": "4Xj5NGP-bGOI",
        "outputId": "b5ea6ebe-3f5f-483e-c700-e1fba930d187"
      },
      "execution_count": 15,
      "outputs": [
        {
          "output_type": "stream",
          "name": "stdout",
          "text": [
            "[nltk_data] Downloading package brown to /root/nltk_data...\n",
            "[nltk_data]   Package brown is already up-to-date!\n",
            "[nltk_data] Downloading package punkt to /root/nltk_data...\n",
            "[nltk_data]   Package punkt is already up-to-date!\n",
            "[nltk_data] Downloading package wordnet to /root/nltk_data...\n",
            "[nltk_data]   Package wordnet is already up-to-date!\n",
            "[nltk_data] Downloading package averaged_perceptron_tagger to\n",
            "[nltk_data]     /root/nltk_data...\n",
            "[nltk_data]   Package averaged_perceptron_tagger is already up-to-\n",
            "[nltk_data]       date!\n",
            "[nltk_data] Downloading package conll2000 to /root/nltk_data...\n",
            "[nltk_data]   Package conll2000 is already up-to-date!\n",
            "[nltk_data] Downloading package movie_reviews to /root/nltk_data...\n",
            "[nltk_data]   Package movie_reviews is already up-to-date!\n",
            "Finished.\n"
          ]
        }
      ]
    },
    {
      "cell_type": "code",
      "source": [
        "# Exercise 12.1 code to get text from the webpage\n",
        "\n",
        "import requests\n",
        "\n",
        "response = requests.get('https://www.python.org')\n",
        "\n",
        "response.content # gives back the page's HTML\n",
        "\n",
        "from bs4 import BeautifulSoup\n",
        "\n",
        "soup = BeautifulSoup(response.content, 'html5lib')\n",
        "\n",
        "text = soup.get_text(strip=True) # text without tags"
      ],
      "metadata": {
        "id": "l_2pYcApbIk0"
      },
      "execution_count": 11,
      "outputs": []
    },
    {
      "cell_type": "code",
      "source": [
        "# Creating a TextBlob from the extracted text\n",
        "\n",
        "from textblob import TextBlob\n",
        "\n",
        "blob = TextBlob(text)"
      ],
      "metadata": {
        "id": "nw0sWU3ocxV0"
      },
      "execution_count": 12,
      "outputs": []
    },
    {
      "cell_type": "code",
      "source": [
        "# Tokenizing into sentences and words, and extracting noun phrases\n",
        "sentences = blob.sentences\n",
        "\n",
        "words = blob.words\n",
        "\n",
        "noun_phrases = blob.noun_phrases"
      ],
      "metadata": {
        "id": "WQw2HrMpgm01"
      },
      "execution_count": 13,
      "outputs": []
    },
    {
      "cell_type": "code",
      "source": [
        "# Output for review\n",
        "\n",
        "sentences, words, noun_phrases"
      ],
      "metadata": {
        "colab": {
          "base_uri": "https://localhost:8080/"
        },
        "id": "WGH5ezu7grh2",
        "outputId": "3674fa8d-e164-4bf4-86d8-89f285c853da"
      },
      "execution_count": 14,
      "outputs": [
        {
          "output_type": "execute_result",
          "data": {
            "text/plain": [
              "([Sentence(\"window.dataLayer = window.dataLayer || [];\n",
              "        function gtag(){dataLayer.push(arguments);}\n",
              "        gtag('js', new Date());\n",
              "        gtag('config', 'G-TF35YF9CVH');Welcome to Python.org{\n",
              "         \"@context\": \"https://schema.org\",\n",
              "         \"@type\": \"WebSite\",\n",
              "         \"url\": \"https://www.python.org/\",\n",
              "         \"potentialAction\": {\n",
              "           \"@type\": \"SearchAction\",\n",
              "           \"target\": \"https://www.python.org/search/?q={search_term_string}\",\n",
              "           \"query-input\": \"required name=search_term_string\"\n",
              "         }\n",
              "       }var _gaq = _gaq || [];\n",
              "      _gaq.push(['_setAccount', 'UA-39055973-1']);\n",
              "      _gaq.push(['_trackPageview']);\n",
              "  \n",
              "      (function() {\n",
              "          var ga = document.createElement('script'); ga.type = 'text/javascript'; ga.async = true;\n",
              "          ga.src = ('https:' == document.location.protocol ?\"),\n",
              "  Sentence(\"'https://ssl' : 'http://www') + '.google-analytics.com/ga.js';\n",
              "          var s = document.getElementsByTagName('script')[0]; s.parentNode.insertBefore(ga, s);\n",
              "      })();Notice:While JavaScript is not essential for this website, your interaction with the content will be limited.\"),\n",
              "  Sentence(\"Please turn JavaScript on for the full experience.Skip to content▼ClosePythonPSFDocsPyPIJobsCommunity▲The Python NetworkDonate≡MenuSearch This SiteGOAASmallerLargerResetSocializeLinkedInMastodonChat on IRCTwitterAboutApplicationsQuotesGetting StartedHelpPython BrochureDownloadsAll releasesSource codeWindowsmacOSOther PlatformsLicenseAlternative ImplementationsDocumentationDocsAudio/Visual TalksBeginner's GuideDeveloper's GuideFAQNon-English DocsPEP IndexPython BooksPython EssaysCommunityDiversityMailing ListsIRCForumsPSF Annual Impact ReportPython ConferencesSpecial Interest GroupsPython LogoPython WikiCode of ConductCommunity AwardsGet InvolvedShared StoriesSuccess StoriesArtsBusinessEducationEngineeringGovernmentScientificSoftware DevelopmentNewsPython NewsPSF NewsletterPSF NewsPyCon US NewsNews from the CommunityEventsPython EventsUser Group EventsPython Events ArchiveUser Group Events ArchiveSubmit an Event>_Launch Interactive Shell# Python 3: Fibonacci series up to n>>> def fib(n):\n",
              "  >>>     a, b = 0, 1\n",
              "  >>>     while a < n:\n",
              "  >>>         print(a, end=' ')\n",
              "  >>>         a, b = b, a+b\n",
              "  >>>     print()\n",
              "  >>> fib(1000)0 1 1 2 3 5 8 13 21 34 55 89 144 233 377 610 987Functions DefinedThe core of extensible programming is defining functions.\"),\n",
              "  Sentence(\"Python allows mandatory and optional arguments, keyword arguments, and even arbitrary argument lists.More about defining functions in Python 3# Python 3: List comprehensions>>> fruits = ['Banana', 'Apple', 'Lime']\n",
              "  >>> loud_fruits = [fruit.upper() for fruit in fruits]\n",
              "  >>> print(loud_fruits)['BANANA', 'APPLE', 'LIME']# List and the enumerate function>>> list(enumerate(fruits))[(0, 'Banana'), (1, 'Apple'), (2, 'Lime')]Compound Data TypesLists (known as arrays in other languages) are one of the compound data types that Python understands.\"),\n",
              "  Sentence(\"Lists can be indexed, sliced and manipulated with other built-in functions.More about lists in Python 3# Python 3: Simple arithmetic>>> 1 / 20.5>>> 2 ** 38>>> 17 / 3# classic division returns a float5.666666666666667>>> 17 // 3# floor division5Intuitive InterpretationCalculations are simple with Python, and expression syntax is straightforward: the operators+,-,*and/work as expected; parentheses()can be used for grouping.More about simple math functions in Python 3.# For loop on a list>>> numbers = [2, 4, 6, 8]\n",
              "  >>> product = 1\n",
              "  >>> for number in numbers:\n",
              "  ...    product = product * number\n",
              "  ... \n",
              "  >>> print('The product is:', product)The product is: 384All the Flow You’d ExpectPython knows the usual control flow statements that other languages speak —if,for,whileandrange— with some of its own twists, of course.More control flow tools in Python 3# Simple output (with Unicode)>>> print(\"Hello, I'm Python!\"),\n",
              "  Sentence(\"\")Hello, I'm Python!# Input, assignment>>> name = input('What is your name?\\n')What is your name?\"),\n",
              "  Sentence(\"Python>>> print(f'Hi, {name}.\"),\n",
              "  Sentence(\"')Hi, Python.Quick & Easy to LearnExperienced programmers in any other language can pick up Python very quickly, and beginners find the clean syntax and indentation structure easy to learn.Whet your appetitewith our Python 3 overview.Python is a programming language that lets you work quicklyand integrate systems more effectively.Learn MoreGet StartedWhether you're new to programming or an experienced developer, it's easy to learn and use Python.Start with our Beginner’s GuideDownloadPython source code and installers are available for download for all versions!Latest:Python 3.12.6DocsDocumentation for Python's standard library, along with tutorials and guides, are available online.docs.python.orgJobsLooking for work or have a Python related position that you're trying to hire for?\"),\n",
              "  Sentence(\"Ourrelaunched community-run job boardis the place to go.jobs.python.orgLatest NewsMore2024-09-07Python 3.13.0RC2, 3.12.6, 3.11.10, 3.10.15, 3.9.20, and 3.8.20 are now available!2024-09-05Pallets projects added to scope of PSF CVE Numbering Authority2024-08-29Python Developers Survey 2023 Results2024-08-27Ask questions or tell us what you think: Introducing monthly PSF Board Office Hours!2024-08-13Announcing Python Software Foundation Fellow Members for Q1 2024!\"),\n",
              "  Sentence(\"🎉Upcoming EventsMore2024-09-25PyData Paris 20242024-09-25Python New Zealand - Online Group, Learners' Group2024-09-26PyConf Mini Davao 20242024-09-26PiterPy 20242024-09-26Python New Zealand - Online Group, Learners' GroupSuccess StoriesMore\"Python is all about automating repetitive tasks, leaving more time for your other SEO efforts.\"),\n",
              "  Sentence(\"\"Using Python scripts to analyse SEO and broken links on your siteby Marnix de MunckUse Python for…MoreWeb Development:Django,Pyramid,Bottle,Tornado,Flask,web2pyGUI Development:tkInter,PyGObject,PyQt,PySide,Kivy,wxPython,DearPyGuiScientific and Numeric:SciPy,Pandas,IPythonSoftware Development:Buildbot,Trac,RoundupSystem Administration:Ansible,Salt,OpenStack,xonsh>>>Python Software FoundationThe mission of the Python Software Foundation is to promote, protect, and advance the Python programming language, and to support and facilitate the growth of a diverse and international community of Python programmers.Learn moreBecome a MemberDonate to the PSF▲Back to TopAboutApplicationsQuotesGetting StartedHelpPython BrochureDownloadsAll releasesSource codeWindowsmacOSOther PlatformsLicenseAlternative ImplementationsDocumentationDocsAudio/Visual TalksBeginner's GuideDeveloper's GuideFAQNon-English DocsPEP IndexPython BooksPython EssaysCommunityDiversityMailing ListsIRCForumsPSF Annual Impact ReportPython ConferencesSpecial Interest GroupsPython LogoPython WikiCode of ConductCommunity AwardsGet InvolvedShared StoriesSuccess StoriesArtsBusinessEducationEngineeringGovernmentScientificSoftware DevelopmentNewsPython NewsPSF NewsletterPSF NewsPyCon US NewsNews from the CommunityEventsPython EventsUser Group EventsPython Events ArchiveUser Group Events ArchiveSubmit an EventContributingDeveloper's GuideIssue Trackerpython-dev listCore MentorshipReport a Security Issue▲Back to TopHelp &GeneralContactDiversityInitiativesSubmit Website BugStatusCopyright ©2001-2024.Python Software FoundationLegal StatementsPrivacy Policywindow.jQuery || document.write('<script src=\"/static/js/libs/jquery-1.8.2.min.js\"><\\/script>')window.jQuery || document.write('<script src=\"/static/js/libs/jquery-ui-1.12.1.min.js\"><\\/script>')\")],\n",
              " WordList(['window.dataLayer', 'window.dataLayer', 'function', 'gtag', 'dataLayer.push', 'arguments', 'gtag', \"'js\", 'new', 'Date', 'gtag', \"'config\", 'G-TF35YF9CVH', 'Welcome', 'to', 'Python.org', 'context', 'https', 'schema.org', 'type', 'WebSite', 'url', 'https', 'www.python.org', 'potentialAction', 'type', 'SearchAction', 'target', 'https', 'www.python.org/search', 'q', 'search_term_string', 'query-input', 'required', 'name=search_term_string', 'var', 'gaq', 'gaq', 'gaq.push', \"'_setAccount\", \"'UA-39055973-1\", 'gaq.push', \"'_trackPageview\", 'function', 'var', 'ga', 'document.createElement', \"'script\", 'ga.type', \"'text/javascript\", 'ga.async', 'true', 'ga.src', \"'https\", 'document.location.protocol', \"'https\", 'ssl', \"'http\", 'www', \"'.google-analytics.com/ga.js\", 'var', 's', 'document.getElementsByTagName', \"'script\", '0', 's.parentNode.insertBefore', 'ga', 's', 'Notice', 'While', 'JavaScript', 'is', 'not', 'essential', 'for', 'this', 'website', 'your', 'interaction', 'with', 'the', 'content', 'will', 'be', 'limited', 'Please', 'turn', 'JavaScript', 'on', 'for', 'the', 'full', 'experience.Skip', 'to', 'content▼ClosePythonPSFDocsPyPIJobsCommunity▲The', 'Python', 'NetworkDonate≡MenuSearch', 'This', 'SiteGOAASmallerLargerResetSocializeLinkedInMastodonChat', 'on', 'IRCTwitterAboutApplicationsQuotesGetting', 'StartedHelpPython', 'BrochureDownloadsAll', 'releasesSource', 'codeWindowsmacOSOther', 'PlatformsLicenseAlternative', 'ImplementationsDocumentationDocsAudio/Visual', 'TalksBeginner', \"'s\", 'GuideDeveloper', \"'s\", 'GuideFAQNon-English', 'DocsPEP', 'IndexPython', 'BooksPython', 'EssaysCommunityDiversityMailing', 'ListsIRCForumsPSF', 'Annual', 'Impact', 'ReportPython', 'ConferencesSpecial', 'Interest', 'GroupsPython', 'LogoPython', 'WikiCode', 'of', 'ConductCommunity', 'AwardsGet', 'InvolvedShared', 'StoriesSuccess', 'StoriesArtsBusinessEducationEngineeringGovernmentScientificSoftware', 'DevelopmentNewsPython', 'NewsPSF', 'NewsletterPSF', 'NewsPyCon', 'US', 'NewsNews', 'from', 'the', 'CommunityEventsPython', 'EventsUser', 'Group', 'EventsPython', 'Events', 'ArchiveUser', 'Group', 'Events', 'ArchiveSubmit', 'an', 'Event', 'Launch', 'Interactive', 'Shell', 'Python', '3', 'Fibonacci', 'series', 'up', 'to', 'n', 'def', 'fib', 'n', 'a', 'b', '0', '1', 'while', 'a', 'n', 'print', 'a', 'end', 'a', 'b', 'b', 'a+b', 'print', 'fib', '1000', '0', '1', '1', '2', '3', '5', '8', '13', '21', '34', '55', '89', '144', '233', '377', '610', '987Functions', 'DefinedThe', 'core', 'of', 'extensible', 'programming', 'is', 'defining', 'functions', 'Python', 'allows', 'mandatory', 'and', 'optional', 'arguments', 'keyword', 'arguments', 'and', 'even', 'arbitrary', 'argument', 'lists.More', 'about', 'defining', 'functions', 'in', 'Python', '3', 'Python', '3', 'List', 'comprehensions', 'fruits', \"'Banana\", \"'Apple\", \"'Lime\", 'loud_fruits', 'fruit.upper', 'for', 'fruit', 'in', 'fruits', 'print', 'loud_fruits', \"'BANANA\", \"'APPLE\", \"'LIME\", 'List', 'and', 'the', 'enumerate', 'function', 'list', 'enumerate', 'fruits', '0', \"'Banana\", '1', \"'Apple\", '2', \"'Lime\", 'Compound', 'Data', 'TypesLists', 'known', 'as', 'arrays', 'in', 'other', 'languages', 'are', 'one', 'of', 'the', 'compound', 'data', 'types', 'that', 'Python', 'understands', 'Lists', 'can', 'be', 'indexed', 'sliced', 'and', 'manipulated', 'with', 'other', 'built-in', 'functions.More', 'about', 'lists', 'in', 'Python', '3', 'Python', '3', 'Simple', 'arithmetic', '1', '20.5', '2', '38', '17', '3', 'classic', 'division', 'returns', 'a', 'float5.666666666666667', '17', '3', 'floor', 'division5Intuitive', 'InterpretationCalculations', 'are', 'simple', 'with', 'Python', 'and', 'expression', 'syntax', 'is', 'straightforward', 'the', 'operators', 'and/work', 'as', 'expected', 'parentheses', 'can', 'be', 'used', 'for', 'grouping.More', 'about', 'simple', 'math', 'functions', 'in', 'Python', '3', 'For', 'loop', 'on', 'a', 'list', 'numbers', '2', '4', '6', '8', 'product', '1', 'for', 'number', 'in', 'numbers', 'product', 'product', 'number', 'print', \"'The\", 'product', 'is', 'product', 'The', 'product', 'is', '384All', 'the', 'Flow', 'You', '’', 'd', 'ExpectPython', 'knows', 'the', 'usual', 'control', 'flow', 'statements', 'that', 'other', 'languages', 'speak', '—if', 'for', 'whileandrange—', 'with', 'some', 'of', 'its', 'own', 'twists', 'of', 'course.More', 'control', 'flow', 'tools', 'in', 'Python', '3', 'Simple', 'output', 'with', 'Unicode', 'print', 'Hello', 'I', \"'m\", 'Python', 'Hello', 'I', \"'m\", 'Python', 'Input', 'assignment', 'name', 'input', \"'What\", 'is', 'your', 'name', 'n', 'What', 'is', 'your', 'name', 'Python', 'print', \"f'Hi\", 'name', 'Hi', 'Python.Quick', 'Easy', 'to', 'LearnExperienced', 'programmers', 'in', 'any', 'other', 'language', 'can', 'pick', 'up', 'Python', 'very', 'quickly', 'and', 'beginners', 'find', 'the', 'clean', 'syntax', 'and', 'indentation', 'structure', 'easy', 'to', 'learn.Whet', 'your', 'appetitewith', 'our', 'Python', '3', 'overview.Python', 'is', 'a', 'programming', 'language', 'that', 'lets', 'you', 'work', 'quicklyand', 'integrate', 'systems', 'more', 'effectively.Learn', 'MoreGet', 'StartedWhether', 'you', \"'re\", 'new', 'to', 'programming', 'or', 'an', 'experienced', 'developer', 'it', \"'s\", 'easy', 'to', 'learn', 'and', 'use', 'Python.Start', 'with', 'our', 'Beginner', '’', 's', 'GuideDownloadPython', 'source', 'code', 'and', 'installers', 'are', 'available', 'for', 'download', 'for', 'all', 'versions', 'Latest', 'Python', '3.12.6DocsDocumentation', 'for', 'Python', \"'s\", 'standard', 'library', 'along', 'with', 'tutorials', 'and', 'guides', 'are', 'available', 'online.docs.python.orgJobsLooking', 'for', 'work', 'or', 'have', 'a', 'Python', 'related', 'position', 'that', 'you', \"'re\", 'trying', 'to', 'hire', 'for', 'Ourrelaunched', 'community-run', 'job', 'boardis', 'the', 'place', 'to', 'go.jobs.python.orgLatest', 'NewsMore2024-09-07Python', '3.13.0RC2', '3.12.6', '3.11.10', '3.10.15', '3.9.20', 'and', '3.8.20', 'are', 'now', 'available', '2024-09-05Pallets', 'projects', 'added', 'to', 'scope', 'of', 'PSF', 'CVE', 'Numbering', 'Authority2024-08-29Python', 'Developers', 'Survey', '2023', 'Results2024-08-27Ask', 'questions', 'or', 'tell', 'us', 'what', 'you', 'think', 'Introducing', 'monthly', 'PSF', 'Board', 'Office', 'Hours', '2024-08-13Announcing', 'Python', 'Software', 'Foundation', 'Fellow', 'Members', 'for', 'Q1', '2024', '🎉Upcoming', 'EventsMore2024-09-25PyData', 'Paris', '20242024-09-25Python', 'New', 'Zealand', 'Online', 'Group', 'Learners', 'Group2024-09-26PyConf', 'Mini', 'Davao', '20242024-09-26PiterPy', '20242024-09-26Python', 'New', 'Zealand', 'Online', 'Group', 'Learners', 'GroupSuccess', 'StoriesMore', 'Python', 'is', 'all', 'about', 'automating', 'repetitive', 'tasks', 'leaving', 'more', 'time', 'for', 'your', 'other', 'SEO', 'efforts', 'Using', 'Python', 'scripts', 'to', 'analyse', 'SEO', 'and', 'broken', 'links', 'on', 'your', 'siteby', 'Marnix', 'de', 'MunckUse', 'Python', 'for…MoreWeb', 'Development', 'Django', 'Pyramid', 'Bottle', 'Tornado', 'Flask', 'web2pyGUI', 'Development', 'tkInter', 'PyGObject', 'PyQt', 'PySide', 'Kivy', 'wxPython', 'DearPyGuiScientific', 'and', 'Numeric', 'SciPy', 'Pandas', 'IPythonSoftware', 'Development', 'Buildbot', 'Trac', 'RoundupSystem', 'Administration', 'Ansible', 'Salt', 'OpenStack', 'xonsh', 'Python', 'Software', 'FoundationThe', 'mission', 'of', 'the', 'Python', 'Software', 'Foundation', 'is', 'to', 'promote', 'protect', 'and', 'advance', 'the', 'Python', 'programming', 'language', 'and', 'to', 'support', 'and', 'facilitate', 'the', 'growth', 'of', 'a', 'diverse', 'and', 'international', 'community', 'of', 'Python', 'programmers.Learn', 'moreBecome', 'a', 'MemberDonate', 'to', 'the', 'PSF▲Back', 'to', 'TopAboutApplicationsQuotesGetting', 'StartedHelpPython', 'BrochureDownloadsAll', 'releasesSource', 'codeWindowsmacOSOther', 'PlatformsLicenseAlternative', 'ImplementationsDocumentationDocsAudio/Visual', 'TalksBeginner', \"'s\", 'GuideDeveloper', \"'s\", 'GuideFAQNon-English', 'DocsPEP', 'IndexPython', 'BooksPython', 'EssaysCommunityDiversityMailing', 'ListsIRCForumsPSF', 'Annual', 'Impact', 'ReportPython', 'ConferencesSpecial', 'Interest', 'GroupsPython', 'LogoPython', 'WikiCode', 'of', 'ConductCommunity', 'AwardsGet', 'InvolvedShared', 'StoriesSuccess', 'StoriesArtsBusinessEducationEngineeringGovernmentScientificSoftware', 'DevelopmentNewsPython', 'NewsPSF', 'NewsletterPSF', 'NewsPyCon', 'US', 'NewsNews', 'from', 'the', 'CommunityEventsPython', 'EventsUser', 'Group', 'EventsPython', 'Events', 'ArchiveUser', 'Group', 'Events', 'ArchiveSubmit', 'an', 'EventContributingDeveloper', \"'s\", 'GuideIssue', 'Trackerpython-dev', 'listCore', 'MentorshipReport', 'a', 'Security', 'Issue▲Back', 'to', 'TopHelp', 'GeneralContactDiversityInitiativesSubmit', 'Website', 'BugStatusCopyright', '©2001-2024.Python', 'Software', 'FoundationLegal', 'StatementsPrivacy', 'Policywindow.jQuery', 'document.write', 'script', 'src', 'static/js/libs/jquery-1.8.2.min.js', 'script', 'window.jQuery', 'document.write', 'script', 'src', 'static/js/libs/jquery-ui-1.12.1.min.js', 'script']),\n",
              " WordList(['window.datalayer = window.datalayer || [ ]', 'function gtag', '{ datalayer.push', '} gtag', 'date', 'g-tf35yf9cvh', 'welcome', 'python.org', '@ context', '@ type', 'website', '@ type', 'searchaction', 'q= {', '} } var _gaq = _gaq || [ ]', \"[ '_setaccount\", \"[ '_trackpageview\", '{ var ga = document.createelement', \"ga.type = 'text/javascript\", 'ga.async =', 'ga.src =', '== document.location.protocol', \"+ '.google-analytics.com/ga.js\", 'var s = document.getelementsbytagname', 'notice', 'javascript', 'please', 'javascript', 'full experience.skip', 'python networkdonate≡menusearch', 'sitegoaasmallerlargerresetsocializelinkedinmastodonchat', 'irctwitteraboutapplicationsquotesgetting startedhelppython brochuredownloadsall', 'releasessource codewindowsmacosother', 'platformslicensealternative implementationsdocumentationdocsaudio/visual talksbeginner', 'guidedeveloper', 'guidefaqnon-english docspep indexpython bookspython essayscommunitydiversitymailing listsircforumspsf annual impact reportpython conferencesspecial interest groupspython logopython wikicode', 'conductcommunity awardsget involvedshared storiessuccess storiesartsbusinesseducationengineeringgovernmentscientificsoftware developmentnewspython newspsf newsletterpsf newspycon', 'newsnews', 'communityeventspython eventsuser', 'eventspython events archiveuser', 'events archivesubmit', 'event', '> _launch', 'interactive shell', 'python', 'fibonacci', 'n > > > def fib', '> > >', 'b =', '> > >', '< n', '> > > print', '> > >', 'b = b', 'a+b > > > print', '> > > fib', 'definedthe', 'python', 'optional arguments', 'keyword arguments', 'arbitrary argument lists.more', 'python', 'python', 'list', \"comprehensions > > > fruits = [ 'banana\", '] > > > loud_fruits = [ fruit.upper', 'fruits ] > > > print', \"[ 'banana\", '] #', 'list', 'enumerate function > > > list', 'compound data typeslists', 'compound data types', 'python', 'lists', 'built-in functions.more', 'python', 'python', 'simple', 'arithmetic > > >', '> > >', '* *', '> > >', 'classic division returns', 'float5.666666666666667 > > >', '# floor division5intuitive', 'interpretationcalculations', 'python', 'expression syntax', '* and/work', 'simple math functions', 'python', '3. #', 'list > > > numbers = [', '] > > > product =', '> > >', '... product = product * number ... > > > print', \"'the product\", 'flow', '’ d', 'expectpython', 'usual control flow statements', 'own twists', 'course.more control flow tools', 'python', 'simple', 'unicode', '> > > print', 'hello', 'python', 'hello', 'python', 'input', 'assignment > > > name = input', 'python', '> > > print', '{ name }', 'hi', 'python.quick', 'easy', 'learnexperienced', 'python', 'clean syntax', 'indentation structure', 'python', 'moreget startedwhether', 'python.start', 'beginner', '’ s', 'guidedownloadpython', 'source code', 'latest', 'python', 'python', 'standard library', 'python', 'ourrelaunched', 'community-run job boardis', 'newsmore2024-09-07python', '2024-09-05pallets projects', 'psf cve numbering authority2024-08-29python developers survey', 'results2024-08-27ask', 'introducing', 'psf', 'board office hours', 'python software', 'fellow', 'q1', 'eventsmore2024-09-25pydata paris', 'zealand', 'online', 'learners', 'group2024-09-26pyconf mini davao', '20242024-09-26piterpy 20242024-09-26python', 'zealand', 'online', 'learners', 'groupsuccess storiesmore', 'python', 'repetitive tasks', 'seo', 'python', 'seo', 'marnix', 'munckuse python', 'for…moreweb development', 'django', 'pyramid', 'bottle', 'tornado', 'flask', 'web2pygui development', 'pygobject', 'pyqt', 'pyside', 'kivy', 'dearpyguiscientific', 'numeric', 'scipy', 'pandas', 'ipythonsoftware', 'buildbot', 'trac', 'roundupsystem', 'ansible', 'openstack', 'xonsh > > >', 'python software foundationthe', 'python software', 'python', 'international community', 'python', 'programmers.learn morebecome', 'memberdonate', 'psf▲back', 'topaboutapplicationsquotesgetting startedhelppython brochuredownloadsall', 'releasessource codewindowsmacosother', 'platformslicensealternative implementationsdocumentationdocsaudio/visual talksbeginner', 'guidedeveloper', 'guidefaqnon-english docspep indexpython bookspython essayscommunitydiversitymailing listsircforumspsf annual impact reportpython conferencesspecial interest groupspython logopython wikicode', 'conductcommunity awardsget involvedshared storiessuccess storiesartsbusinesseducationengineeringgovernmentscientificsoftware developmentnewspython newspsf newsletterpsf newspycon', 'newsnews', 'communityeventspython eventsuser', 'eventspython events archiveuser', 'events archivesubmit', 'eventcontributingdeveloper', 'guideissue trackerpython-dev', 'mentorshipreport', 'issue▲back', 'tophelp', 'generalcontactdiversityinitiativessubmit website bugstatuscopyright', 'software foundationlegal statementsprivacy policywindow.jquery', '|| document.write', '< script src=', '> < \\\\/script >', 'window.jquery || document.write', '< script src=', '> < \\\\/script >']))"
            ]
          },
          "metadata": {},
          "execution_count": 14
        }
      ]
    }
  ]
}